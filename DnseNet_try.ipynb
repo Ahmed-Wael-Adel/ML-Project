{
  "nbformat": 4,
  "nbformat_minor": 0,
  "metadata": {
    "colab": {
      "provenance": []
    },
    "kernelspec": {
      "name": "python3",
      "display_name": "Python 3"
    },
    "language_info": {
      "name": "python"
    }
  },
  "cells": [
    {
      "cell_type": "code",
      "execution_count": 1,
      "metadata": {
        "colab": {
          "base_uri": "https://localhost:8080/"
        },
        "id": "IrBI5RivWxjy",
        "outputId": "174ae933-723e-41b9-a475-ca1ed121c795"
      },
      "outputs": [
        {
          "output_type": "stream",
          "name": "stdout",
          "text": [
            "Mounted at /content/drive\n"
          ]
        }
      ],
      "source": [
        "from google.colab import drive\n",
        "drive.mount('/content/drive')\n"
      ]
    },
    {
      "cell_type": "code",
      "source": [
        "from tensorflow.keras.models import load_model\n",
        "\n",
        "# Load the model\n",
        "model_path = '/content/drive/MyDrive/DnseNet_model.h5'\n",
        "model = load_model(model_path)\n"
      ],
      "metadata": {
        "id": "q3w5ZrpRWzlx"
      },
      "execution_count": 2,
      "outputs": []
    },
    {
      "cell_type": "code",
      "source": [
        "from tensorflow.keras.preprocessing import image\n",
        "import numpy as np\n",
        "\n",
        "# Path to your image in Google Drive\n",
        "img_path = '/content/Te-piTr_0001.jpg'\n",
        "\n",
        "# Load and preprocess the image\n",
        "img = image.load_img(img_path, target_size=(224, 224))  # Adjust target_size accordingly\n",
        "img_array = image.img_to_array(img)\n",
        "img_array = np.expand_dims(img_array, axis=0)\n",
        "img_array = img_array / 255.0  # Normalize if required\n"
      ],
      "metadata": {
        "id": "_fBr7o9cW7og"
      },
      "execution_count": 3,
      "outputs": []
    },
    {
      "cell_type": "code",
      "source": [
        "# Make a prediction\n",
        "predictions = model.predict(img_array)\n",
        "predicted_class = np.argmax(predictions, axis=1)\n",
        "\n",
        "print(f'Predicted class: {predicted_class}')\n"
      ],
      "metadata": {
        "colab": {
          "base_uri": "https://localhost:8080/"
        },
        "id": "IesrwCcTXtgb",
        "outputId": "e8ec78de-7dbc-4a78-c475-7a3f791c5697"
      },
      "execution_count": 4,
      "outputs": [
        {
          "output_type": "stream",
          "name": "stdout",
          "text": [
            "1/1 [==============================] - 4s 4s/step\n",
            "Predicted class: [2]\n"
          ]
        }
      ]
    }
  ]
}